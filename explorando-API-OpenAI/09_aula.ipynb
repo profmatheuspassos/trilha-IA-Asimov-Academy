{
 "cells": [
  {
   "cell_type": "code",
   "execution_count": 34,
   "id": "0b0a7bea",
   "metadata": {},
   "outputs": [],
   "source": [
    "import json  # Importa o módulo 'json' para trabalhar com dados no formato JSON\n",
    "import yfinance as yf  # Importa o módulo 'yfinance' e o apelida de 'yf', que permite acessar dados financeiros\n",
    "\n",
    "import openai  # Importa a biblioteca 'openai' para interagir com a API do OpenAI\n",
    "from dotenv import load_dotenv, find_dotenv  # Importa funções da biblioteca 'dotenv' para carregar variáveis de ambiente\n",
    "\n",
    "_ = load_dotenv(find_dotenv())  # Carrega as variáveis de ambiente a partir de um arquivo .env\n",
    "\n",
    "client = openai.Client()  # Cria uma instância do cliente OpenAI para interagir com a API\n",
    "\n",
    "def retorna_cotacao_acao_historica(  # Define uma função que retorna a cotação histórica de uma ação\n",
    "        ticker,  # Parâmetro 'ticker' para o símbolo da ação\n",
    "        periodo='1mo'  # Parâmetro 'periodo' com valor padrão de 1 mês\n",
    "):\n",
    "    ticker_obj = yf.Ticker(f'{ticker}.SA')  # Cria um objeto da ação usando o módulo yfinance para ações da Bovespa\n",
    "    # ticker_obj = yf.Ticker(f'{ticker}')  # Linha comentada (poderia ser usada para ações de fora da Bovespa)\n",
    "    hist = ticker_obj.history(period=periodo)['Close']  # Obtém o histórico de fechamento da ação para o período especificado\n",
    "    hist.index = hist.index.strftime('%Y-%m-%d')  # Formata as datas no índice no formato ano-mês-dia\n",
    "    hist = round(hist, 2)  # Arredonda os valores de cotação para duas casas decimais\n",
    "    if len(hist) > 30:  # Verifica se o histórico contém mais de 30 dias de dados\n",
    "        slice_size = int(len(hist) / 30)  # Define um tamanho de fatia para reduzir o número de dados\n",
    "        hist = hist.iloc[::-slice_size][::-1]  # Reduz os dados mantendo o intervalo de tempo uniforme\n",
    "    return hist.to_json()  # Retorna o histórico no formato JSON\n",
    "\n",
    "tools = [  # Lista de ferramentas (funções) que podem ser usadas pelo modelo OpenAI\n",
    "    {\n",
    "        'type': 'function',  # Especifica que o tipo da ferramenta é uma função\n",
    "        'function': {\n",
    "            'name': 'retorna_cotacao_acao_historica',  # Nome da função\n",
    "            'description': 'Retorna a cotação diária histórica para uma ação da Bovespa',  # Descrição da função\n",
    "            'parameters': {  # Parâmetros esperados pela função\n",
    "                'type': 'object',  # Os parâmetros são passados como um objeto\n",
    "                'properties': {  # Propriedades do objeto de parâmetros\n",
    "                    'ticker': {\n",
    "                        'type': 'string',  # O 'ticker' é uma string\n",
    "                        'description': 'O ticker da ação. Exemplo: \"ABEV3\" para Ambev, \"PETR4\" para Petrobras, etc.'  # Descrição do 'ticker'\n",
    "                    },\n",
    "                    'periodo': {\n",
    "                        'type': 'string',  # O 'periodo' é uma string\n",
    "                        'description': 'O período que será retornado de dados históricos \\\n",
    "                                        sendo \"1mo\" equivalente a um mês de dados, \"1d\" a \\\n",
    "                                        1 dia e \"1y\" a 1 ano',  # Descrição do parâmetro 'periodo'\n",
    "                        'enum': [\"1d\",\"5d\",\"1mo\",\"6mo\",\"1y\",\"5y\",\"10y\",\"ytd\",\"max\"]  # Enumera os valores permitidos para o período\n",
    "                    }\n",
    "                }\n",
    "            }\n",
    "        }\n",
    "    }\n",
    "\n",
    "]\n",
    "\n",
    "funcoes_disponiveis = {'retorna_cotacao_acao_historica': retorna_cotacao_acao_historica}  # Mapeia a função disponível por nome\n",
    "\n",
    "mensagens = [{'role': 'user', 'content': 'Qual a cotação da Suzano agora'}]  # Mensagem simulada que será enviada para a API OpenAI\n",
    "\n",
    "resposta = client.chat.completions.create(  # Faz uma chamada à API OpenAI para gerar uma resposta\n",
    "    messages=mensagens,  # Envia a mensagem definida acima\n",
    "    model='gpt-4o-mini',  # Usa o modelo 'gpt-4o-mini'\n",
    "    tools=tools,  # Passa a lista de ferramentas (funções) para a API usar\n",
    "    tool_choice='auto'  # Deixa a escolha da ferramenta para a API decidir automaticamente\n",
    ")"
   ]
  },
  {
   "cell_type": "markdown",
   "id": "a6414f49",
   "metadata": {},
   "source": [
    "---"
   ]
  },
  {
   "cell_type": "markdown",
   "id": "454bee39",
   "metadata": {},
   "source": [
    "Este script faz uso de várias bibliotecas para obter cotações históricas de ações da Bovespa e interagir com a API da OpenAI. Ele pode ser dividido em duas partes principais: a obtenção de dados financeiros e o uso de uma função personalizada para integrar esses dados com um modelo de IA da OpenAI.\n",
    "\n",
    "1. Importação de Bibliotecas: O script começa importando as bibliotecas necessárias. yfinance é utilizada para acessar dados de ações, enquanto dotenv ajuda a carregar variáveis de ambiente (como chaves de API). Além disso, o módulo openai é utilizado para se comunicar com a API da OpenAI.\n",
    "2. Função para Retornar a Cotação Histórica: Uma função chamada retorna_cotacao_acao_historica é definida para buscar dados históricos de uma ação com base em seu ticker (símbolo da ação) e um período de tempo especificado. Ela usa o yfinance para acessar o histórico de preços de fechamento e formata os dados, retornando-os no formato JSON.\n",
    "3. Criação de Ferramentas: A função é então mapeada como uma “ferramenta” que pode ser chamada pelo modelo da OpenAI. Isso é feito configurando uma estrutura que descreve a função, os parâmetros que ela aceita e o que ela faz.\n",
    "4. Simulação de uma Pergunta: Uma mensagem fictícia é definida, simulando um usuário pedindo a cotação da ação da Suzano.\n",
    "5. Integração com a API OpenAI: Finalmente, o script faz uma chamada à API da OpenAI, passando a função como ferramenta e permitindo que o modelo escolha a ferramenta automaticamente para responder à pergunta do usuário. O modelo utilizado é o gpt-4o-mini.\n",
    "\n",
    "Este script é útil para quem deseja consultar informações de ações e ter a possibilidade de integrar esses dados com IA para processamento e respostas automatizadas."
   ]
  },
  {
   "cell_type": "markdown",
   "id": "47763a6f",
   "metadata": {},
   "source": [
    "---"
   ]
  },
  {
   "cell_type": "markdown",
   "id": "4205ae44",
   "metadata": {},
   "source": [
    "**Passo a passo da primeira parte do script:**\n",
    "\n",
    "1. Importação de Bibliotecas:\n",
    "\t- O script começa importando três bibliotecas: `json`, `yfinance`, `openai`, além de funções do módulo `dotenv`. Essas bibliotecas são essenciais para o funcionamento do script. A `yfinance` será usada para obter dados históricos de ações, o `openai` para interagir com a API da OpenAI, e `dotenv` para carregar variáveis de ambiente (como chaves de API) de um arquivo externo .env.\n",
    "2. Carregamento de Variáveis de Ambiente:\n",
    "\t- O script procura um arquivo .env no sistema usando a função `find_dotenv` e, em seguida, carrega as variáveis desse arquivo usando a função `load_dotenv`. Isso é feito para garantir que informações sensíveis, como chaves de API, sejam carregadas sem serem expostas diretamente no código.\n",
    "3.  Criação do Cliente OpenAI:\n",
    "\t- O script cria uma instância do cliente da API da OpenAI. Essa instância será usada mais adiante para se conectar à API e enviar/receber informações de um modelo de IA.\n",
    "4. Definição da Função `retorna_cotacao_acao_historica`:\n",
    "\t- Esta função é o coração do script quando se trata de obter dados históricos de uma ação. Ela recebe dois parâmetros: `ticker`, que representa o símbolo da ação (por exemplo, “PETR4” para Petrobras), e `periodo`, que define o intervalo de tempo para o qual os dados serão retornados (como “1mo” para um mês, ou “1y” para um ano).\n",
    "\t- Dentro da função, é criado um objeto `Ticker` do módulo `yfinance` que busca informações sobre a ação desejada. O script assume que a ação está listada na Bovespa (por isso adiciona o sufixo “.SA” ao símbolo).\n",
    "\t- O método `history()` é usado para buscar o histórico de preços da ação no período especificado. Apenas os valores de fechamento diário são mantidos.\n",
    "\t- O índice das datas é formatado para o padrão “AAAA-MM-DD”, e os valores de fechamento são arredondados para duas casas decimais.\n",
    "\t- Se o número de registros for maior que 30, o script simplifica os dados retornando uma amostra reduzida, mas proporcional.\n",
    "\t- Por fim, os dados são convertidos em formato JSON e retornados.\n",
    "5. Definição da Estrutura de Ferramentas (`tools`):\n",
    "\t- O script define uma lista de ferramentas (`tools`), que no caso contém apenas uma função: `retorna_cotacao_acao_historica`.\n",
    "\t- Essa estrutura serve para descrever a função de cotação histórica, incluindo seu nome, uma descrição de seu propósito e os parâmetros que ela aceita. O parâmetro `ticker` é o símbolo da ação, enquanto o parâmetro `periodo` define o intervalo de tempo para os dados históricos. O script também especifica quais valores o periodo pode assumir (como “1mo”, “1y”, etc.).\n",
    "6. Dicionário de Funções Disponíveis:\n",
    "\t- O script cria um dicionário chamado `funcoes_disponiveis`, que mapeia o nome da função `retorna_cotacao_acao_historica` para a própria função. Esse dicionário será usado posteriormente para referenciar a função quando o script precisar executá-la.\n",
    "7. Simulação de uma Pergunta do Usuário:\n",
    "\t- O script simula uma interação de usuário ao definir uma lista de mensagens. Neste caso, o usuário pergunta “Qual a cotação da Suzano agora?”. Essa mensagem é definida para simular uma conversa que será enviada ao modelo de IA da OpenAI para processamento.\n",
    "8. Chamada à API da OpenAI:\n",
    "\t- O script, então, faz uma chamada à API da OpenAI, passando as mensagens do usuário, o modelo que deve ser usado (gpt-4o-mini), e a lista de ferramentas disponíveis. A API OpenAI pode escolher automaticamente a ferramenta apropriada (neste caso, a função de cotação) com base na pergunta do usuário.\n",
    "\t- O parâmetro `tool_choice='auto'` permite que a API escolha automaticamente qual função usar, dependendo do conteúdo da mensagem.\n",
    "9. Processamento da Resposta:\n",
    "\t- A resposta gerada pela API da OpenAI é armazenada em uma variável. Dependendo da pergunta e da ferramenta escolhida, o modelo de IA pode chamar a função de cotação histórica para responder à pergunta do usuário com os dados financeiros da ação.\n",
    "\n",
    "**Resumo:**\n",
    "\n",
    "Este script combina a obtenção de cotações históricas de ações da Bovespa com a capacidade de integrar essas informações com um modelo de IA da OpenAI. Primeiro, ele busca dados de ações usando o `yfinance`, formata esses dados e os disponibiliza como uma ferramenta que o modelo de IA pode utilizar. O modelo recebe uma pergunta do usuário, escolhe a ferramenta apropriada (neste caso, a função de cotação), e retorna uma resposta baseada nos dados financeiros obtidos.\n",
    "\n",
    "O objetivo do script é automatizar o processo de consulta de ações, permitindo que um modelo de linguagem forneça respostas contextuais e precisas ao ser questionado sobre o desempenho de uma ação em períodos históricos específicos."
   ]
  },
  {
   "cell_type": "markdown",
   "id": "53597aec",
   "metadata": {},
   "source": [
    "---"
   ]
  },
  {
   "cell_type": "code",
   "execution_count": 41,
   "id": "3e66e0c0",
   "metadata": {},
   "outputs": [
    {
     "data": {
      "text/plain": [
       "'A cotação da ação da Suzano (SUZB3) está em R$ 55,70.'"
      ]
     },
     "execution_count": 41,
     "metadata": {},
     "output_type": "execute_result"
    }
   ],
   "source": [
    "tool_calls = resposta.choices[0].message.tool_calls  # Extrai as chamadas de ferramentas da resposta da OpenAI\n",
    "mensagens.append(resposta.choices[0].message)  # Adiciona a mensagem da resposta ao histórico de mensagens\n",
    "\n",
    "if tool_calls:  # Verifica se há chamadas de ferramentas na resposta\n",
    "    for tool_call in tool_calls:  # Itera sobre cada chamada de ferramenta\n",
    "        func_name = tool_call.function.name  # Extrai o nome da função chamada pela ferramenta\n",
    "        function_to_call = funcoes_disponiveis[func_name]  # Mapeia o nome da função para a função real no dicionário de funções disponíveis\n",
    "        func_args = json.loads(tool_call.function.arguments)  # Converte os argumentos da função de JSON para um dicionário Python\n",
    "        func_return = function_to_call(**func_args)  # Executa a função com os argumentos fornecidos e armazena o retorno\n",
    "\n",
    "        mensagens.append({  # Adiciona o resultado da função executada ao histórico de mensagens\n",
    "            'tool_call_id': tool_call.id,  # ID da chamada de ferramenta\n",
    "            'role': 'tool',  # Define que a função foi executada como uma ferramenta\n",
    "            'name': func_name,  # Nome da função que foi chamada\n",
    "            'content': func_return  # O resultado retornado pela função\n",
    "        })\n",
    "\n",
    "    segunda_resposta = client.chat.completions.create(  # Faz uma nova chamada à API da OpenAI, passando o histórico de mensagens atualizado\n",
    "        messages=mensagens,  # Passa o histórico de mensagens, agora incluindo os resultados das funções\n",
    "        model='gpt-4o-mini',  # Especifica o modelo a ser usado\n",
    "    )\n",
    "\n",
    "    mensagens.append(segunda_resposta.choices[0].message)  # Adiciona a nova resposta da IA ao histórico de mensagens\n",
    "\n",
    "segunda_resposta.choices[0].message.content  # Exibe o conteúdo da nova resposta gerada pela OpenAI"
   ]
  },
  {
   "cell_type": "markdown",
   "id": "92e553fa",
   "metadata": {},
   "source": [
    "### Passo a passo da segunda parte do script:\n",
    "\n",
    "1. **Extração de chamadas de ferramentas**:\n",
    "   - A resposta gerada pela OpenAI é examinada para verificar se o modelo solicitou alguma execução de funções (chamadas de ferramentas). As chamadas de ferramentas são extraídas da resposta e armazenadas na variável `tool_calls`. \n",
    "\n",
    "2. **Adição da mensagem à lista**:\n",
    "   - A resposta gerada pelo modelo também é adicionada à lista `mensagens`, que contém o histórico da conversa até o momento.\n",
    "\n",
    "3. **Verificação da existência de chamadas de ferramentas**:\n",
    "   - O script verifica se há chamadas de ferramentas. Se existirem, ele entra em um loop para processar cada uma delas. Caso contrário, o processo segue em frente sem executar nenhuma função.\n",
    "\n",
    "4. **Processamento das chamadas de ferramentas**:\n",
    "   - Para cada chamada de ferramenta encontrada, o nome da função solicitada pela IA é extraído e associado à função real, disponível no dicionário `funcoes_disponiveis`.\n",
    "\n",
    "5. **Extração dos argumentos da função**:\n",
    "   - Os argumentos necessários para a função são recuperados a partir da chamada de ferramenta. Eles são extraídos no formato JSON e convertidos para um formato que pode ser usado diretamente pelo Python.\n",
    "\n",
    "6. **Execução da função**:\n",
    "   - A função solicitada pelo modelo de IA é executada usando os argumentos extraídos. O resultado dessa execução (como uma cotação de ação, por exemplo) é armazenado na variável `func_return`.\n",
    "\n",
    "7. **Adição do resultado à lista de mensagens**:\n",
    "   - O resultado gerado pela função é adicionado à lista de mensagens, que contém o histórico da interação. Dessa forma, o modelo terá acesso a essa informação na próxima etapa da conversa.\n",
    "\n",
    "8. **Nova chamada à API da OpenAI**:\n",
    "   - Uma nova chamada é feita à API da OpenAI, incluindo o histórico completo de mensagens, agora com os resultados das funções executadas. A IA processará novamente essas informações e gerará uma nova resposta.\n",
    "\n",
    "9. **Adição da nova resposta ao histórico**:\n",
    "   - A nova resposta gerada pela OpenAI é adicionada à lista de mensagens, atualizando o histórico da conversa com a resposta final.\n",
    "\n",
    "10. **Exibição do conteúdo final**:\n",
    "   - Por fim, o conteúdo da nova resposta gerada pela IA é exibido, que pode incluir informações complementares ou a resposta baseada nas funções que foram executadas.\n",
    "\n",
    "### Resumo:\n",
    "\n",
    "Este script processa as respostas da OpenAI, verifica se o modelo pediu a execução de funções personalizadas e, se necessário, executa essas funções. Ele então faz uma nova chamada à API com o histórico atualizado, incluindo os resultados dessas funções, e exibe a resposta final gerada pela IA.\n",
    "\n",
    "Dessa forma, ele permite que o modelo interaja com funções programadas, gerando respostas personalizadas com base em informações externas, como cotações de ações ou outros dados calculados pelo script."
   ]
  },
  {
   "cell_type": "markdown",
   "id": "7409d8aa",
   "metadata": {},
   "source": [
    "---"
   ]
  },
  {
   "cell_type": "code",
   "execution_count": 40,
   "id": "7e0b94fb",
   "metadata": {},
   "outputs": [
    {
     "data": {
      "text/plain": [
       "[ChatCompletionMessageToolCall(id='call_AFJ46PJqmehYazq4dYQe6DRb', function=Function(arguments='{\"ticker\":\"SUZB3\",\"periodo\":\"1d\"}', name='retorna_cotacao_acao_historica'), type='function')]"
      ]
     },
     "execution_count": 40,
     "metadata": {},
     "output_type": "execute_result"
    }
   ],
   "source": [
    "resposta.choices[0].message.tool_calls"
   ]
  },
  {
   "cell_type": "code",
   "execution_count": 36,
   "id": "fcdb97f9",
   "metadata": {},
   "outputs": [
    {
     "data": {
      "text/plain": [
       "'A cotação da ação da Suzano (SUZB3) está em R$ 55,70.'"
      ]
     },
     "execution_count": 36,
     "metadata": {},
     "output_type": "execute_result"
    }
   ],
   "source": [
    "segunda_resposta.choices[0].message.content"
   ]
  },
  {
   "cell_type": "code",
   "execution_count": 37,
   "id": "db12f8d4",
   "metadata": {},
   "outputs": [
    {
     "data": {
      "text/plain": [
       "'{\"2024-10-08\":55.7}'"
      ]
     },
     "execution_count": 37,
     "metadata": {},
     "output_type": "execute_result"
    }
   ],
   "source": [
    "func_name = tool_call.function.name\n",
    "function_to_call = funcoes_disponiveis[func_name]\n",
    "func_args = json.loads(tool_call.function.arguments)\n",
    "func_return = function_to_call(**func_args)\n",
    "\n",
    "\n",
    "func_return"
   ]
  },
  {
   "cell_type": "code",
   "execution_count": 38,
   "id": "441d710a",
   "metadata": {},
   "outputs": [
    {
     "data": {
      "text/plain": [
       "{'ticker': 'SUZB3', 'periodo': '1d'}"
      ]
     },
     "execution_count": 38,
     "metadata": {},
     "output_type": "execute_result"
    }
   ],
   "source": [
    "func_args"
   ]
  },
  {
   "cell_type": "code",
   "execution_count": 39,
   "id": "27dfaf3c",
   "metadata": {},
   "outputs": [
    {
     "data": {
      "text/plain": [
       "ChatCompletionMessageToolCall(id='call_AFJ46PJqmehYazq4dYQe6DRb', function=Function(arguments='{\"ticker\":\"SUZB3\",\"periodo\":\"1d\"}', name='retorna_cotacao_acao_historica'), type='function')"
      ]
     },
     "execution_count": 39,
     "metadata": {},
     "output_type": "execute_result"
    }
   ],
   "source": [
    "tool_call"
   ]
  }
 ],
 "metadata": {
  "kernelspec": {
   "display_name": "Python 3",
   "language": "python",
   "name": "python3"
  },
  "language_info": {
   "codemirror_mode": {
    "name": "ipython",
    "version": 3
   },
   "file_extension": ".py",
   "mimetype": "text/x-python",
   "name": "python",
   "nbconvert_exporter": "python",
   "pygments_lexer": "ipython3",
   "version": "3.12.4"
  }
 },
 "nbformat": 4,
 "nbformat_minor": 5
}
