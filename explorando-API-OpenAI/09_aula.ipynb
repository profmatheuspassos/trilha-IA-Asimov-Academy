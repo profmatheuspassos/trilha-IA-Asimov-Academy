{
 "cells": [
  {
   "cell_type": "code",
   "execution_count": 34,
   "id": "0b0a7bea",
   "metadata": {},
   "outputs": [],
   "source": [
    "import json\n",
    "import yfinance as yf\n",
    "\n",
    "import openai\n",
    "from dotenv import load_dotenv, find_dotenv\n",
    "\n",
    "_ = load_dotenv(find_dotenv())\n",
    "\n",
    "client = openai.Client()\n",
    "\n",
    "def retorna_cotacao_acao_historica(\n",
    "        ticker,\n",
    "        periodo='1mo'\n",
    "):\n",
    "    ticker_obj = yf.Ticker(f'{ticker}.SA')\n",
    "    # ticker_obj = yf.Ticker(f'{ticker}')\n",
    "    hist = ticker_obj.history(period=periodo)['Close']\n",
    "    hist.index = hist.index.strftime('%Y-%m-%d')\n",
    "    hist = round(hist, 2)\n",
    "    if len(hist) > 30:\n",
    "        slice_size = int(len(hist) / 30)\n",
    "        hist = hist.iloc[::-slice_size][::-1]\n",
    "    return hist.to_json()\n",
    "\n",
    "\n",
    "tools = [\n",
    "    {\n",
    "        'type': 'function',\n",
    "        'function': {\n",
    "            'name': 'retorna_cotacao_acao_historica',\n",
    "            'description': 'Retorna a cotação diária histórica para uma ação da Bovespa',\n",
    "            'parameters': {\n",
    "                'type': 'object',\n",
    "                'properties': {\n",
    "                    'ticker': {\n",
    "                        'type': 'string',\n",
    "                        'description': 'O ticker da ação. Exemplo: \"ABEV3\" para Ambev, \"PETR4\" para Petrobras, etc.'\n",
    "                    },\n",
    "                    'periodo': {\n",
    "                        'type': 'string',\n",
    "                        'description': 'O período que será retornado de dados históricos \\\n",
    "                                        sendo \"1mo\" equivalente a um mês de dados, \"1d\" a \\\n",
    "                                        1 dia e \"1y\" a 1 ano',\n",
    "                        'enum': [\"1d\",\"5d\",\"1mo\",\"6mo\",\"1y\",\"5y\",\"10y\",\"ytd\",\"max\"]\n",
    "                    }\n",
    "                }\n",
    "            }\n",
    "        }\n",
    "    }\n",
    "\n",
    "]\n",
    "\n",
    "funcoes_disponiveis = {'retorna_cotacao_acao_historica': retorna_cotacao_acao_historica}\n",
    "\n",
    "mensagens = [{'role': 'user', 'content': 'Qual a cotação da Suzano agora'}]\n",
    "\n",
    "resposta = client.chat.completions.create(\n",
    "    messages=mensagens,\n",
    "    model='gpt-4o-mini',\n",
    "    tools=tools,\n",
    "    tool_choice='auto'\n",
    ")\n"
   ]
  },
  {
   "cell_type": "code",
   "execution_count": 40,
   "id": "7e0b94fb",
   "metadata": {},
   "outputs": [
    {
     "data": {
      "text/plain": [
       "[ChatCompletionMessageToolCall(id='call_AFJ46PJqmehYazq4dYQe6DRb', function=Function(arguments='{\"ticker\":\"SUZB3\",\"periodo\":\"1d\"}', name='retorna_cotacao_acao_historica'), type='function')]"
      ]
     },
     "execution_count": 40,
     "metadata": {},
     "output_type": "execute_result"
    }
   ],
   "source": [
    "resposta.choices[0].message.tool_calls"
   ]
  },
  {
   "cell_type": "code",
   "execution_count": 41,
   "id": "3e66e0c0",
   "metadata": {},
   "outputs": [
    {
     "data": {
      "text/plain": [
       "'A cotação da ação da Suzano (SUZB3) está em R$ 55,70.'"
      ]
     },
     "execution_count": 41,
     "metadata": {},
     "output_type": "execute_result"
    }
   ],
   "source": [
    "tool_calls = resposta.choices[0].message.tool_calls\n",
    "\n",
    "if tool_calls:\n",
    "    mensagens.append(resposta.choices[0].message)\n",
    "    for tool_call in tool_calls:\n",
    "        func_name = tool_call.function.name\n",
    "        function_to_call = funcoes_disponiveis[func_name]\n",
    "        func_args = json.loads(tool_call.function.arguments)\n",
    "        func_return = function_to_call(**func_args)\n",
    "        mensagens.append({\n",
    "            'tool_call_id': tool_call.id,\n",
    "            'role': 'tool',\n",
    "            'name': func_name,\n",
    "            'content': func_return\n",
    "        })\n",
    "    segunda_resposta = client.chat.completions.create(\n",
    "        messages=mensagens,\n",
    "        model='gpt-4o-mini',\n",
    "    )\n",
    "    mensagens.append(segunda_resposta.choices[0].message)\n",
    "\n",
    "segunda_resposta.choices[0].message.content"
   ]
  },
  {
   "cell_type": "code",
   "execution_count": 36,
   "id": "fcdb97f9",
   "metadata": {},
   "outputs": [
    {
     "data": {
      "text/plain": [
       "'A cotação da ação da Suzano (SUZB3) está em R$ 55,70.'"
      ]
     },
     "execution_count": 36,
     "metadata": {},
     "output_type": "execute_result"
    }
   ],
   "source": [
    "segunda_resposta.choices[0].message.content"
   ]
  },
  {
   "cell_type": "code",
   "execution_count": 37,
   "id": "db12f8d4",
   "metadata": {},
   "outputs": [
    {
     "data": {
      "text/plain": [
       "'{\"2024-10-08\":55.7}'"
      ]
     },
     "execution_count": 37,
     "metadata": {},
     "output_type": "execute_result"
    }
   ],
   "source": [
    "func_name = tool_call.function.name\n",
    "function_to_call = funcoes_disponiveis[func_name]\n",
    "func_args = json.loads(tool_call.function.arguments)\n",
    "func_return = function_to_call(**func_args)\n",
    "\n",
    "\n",
    "func_return"
   ]
  },
  {
   "cell_type": "code",
   "execution_count": 38,
   "id": "441d710a",
   "metadata": {},
   "outputs": [
    {
     "data": {
      "text/plain": [
       "{'ticker': 'SUZB3', 'periodo': '1d'}"
      ]
     },
     "execution_count": 38,
     "metadata": {},
     "output_type": "execute_result"
    }
   ],
   "source": [
    "func_args"
   ]
  },
  {
   "cell_type": "code",
   "execution_count": 39,
   "id": "27dfaf3c",
   "metadata": {},
   "outputs": [
    {
     "data": {
      "text/plain": [
       "ChatCompletionMessageToolCall(id='call_AFJ46PJqmehYazq4dYQe6DRb', function=Function(arguments='{\"ticker\":\"SUZB3\",\"periodo\":\"1d\"}', name='retorna_cotacao_acao_historica'), type='function')"
      ]
     },
     "execution_count": 39,
     "metadata": {},
     "output_type": "execute_result"
    }
   ],
   "source": [
    "tool_call"
   ]
  }
 ],
 "metadata": {
  "kernelspec": {
   "display_name": "Python 3",
   "language": "python",
   "name": "python3"
  },
  "language_info": {
   "codemirror_mode": {
    "name": "ipython",
    "version": 3
   },
   "file_extension": ".py",
   "mimetype": "text/x-python",
   "name": "python",
   "nbconvert_exporter": "python",
   "pygments_lexer": "ipython3",
   "version": "3.12.4"
  }
 },
 "nbformat": 4,
 "nbformat_minor": 5
}
