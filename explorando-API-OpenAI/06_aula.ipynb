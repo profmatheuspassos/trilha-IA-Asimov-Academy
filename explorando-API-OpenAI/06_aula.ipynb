{
 "cells": [
  {
   "cell_type": "code",
   "execution_count": 1,
   "metadata": {},
   "outputs": [],
   "source": [
    "import openai\n",
    "from dotenv import load_dotenv, find_dotenv\n",
    "\n",
    "_ = load_dotenv(find_dotenv())"
   ]
  },
  {
   "cell_type": "code",
   "execution_count": 2,
   "id": "9426fcfa",
   "metadata": {},
   "outputs": [],
   "source": [
    "client = openai.Client()"
   ]
  },
  {
   "cell_type": "code",
   "execution_count": 17,
   "id": "8cc401a1",
   "metadata": {},
   "outputs": [],
   "source": [
    "mensagens = [{'role': 'user', 'content': 'Crie uma história sobre uma viagem a Wakanda. A história deve misturar elementos realistas com uma possibilidade do que pode ocorrer em um futuro próximo.'}]\n",
    "\n",
    "resposta = client.chat.completions.create(\n",
    "    messages=mensagens,\n",
    "    model='gpt-4o-mini',\n",
    "    max_tokens=1000,\n",
    "    temperature=0,\n",
    "    stream=True\n",
    ")"
   ]
  },
  {
   "cell_type": "code",
   "execution_count": 18,
   "id": "025f183e",
   "metadata": {},
   "outputs": [
    {
     "name": "stdout",
     "output_type": "stream",
     "text": [
      "**Título: A Jornada a Wakanda**\n",
      "\n",
      "Em um futuro próximo, em 2035, o mundo estava em constante transformação. As mudanças climáticas, as tensões geopolíticas e os avanços tecnológicos moldavam a vida cotidiana. No entanto, havia um lugar que se destacava no cenário global: Wakanda. O país africano, conhecido por sua tecnologia avançada e riqueza em vibranium, havia se tornado um símbolo de esperança e inovação.\n",
      "\n",
      "Ana, uma jovem cientista brasileira, sempre sonhou em visitar Wakanda. Desde criança, ela se fascinava com as histórias sobre a nação secreta e suas inovações. Após anos de pesquisa em energias renováveis, Ana foi selecionada para participar de uma conferência internacional sobre sustentabilidade que seria realizada em Wakanda. A oportunidade era única, e ela não hesitou em embarcar na viagem.\n",
      "\n",
      "Ao chegar a Wakanda, Ana ficou maravilhada com a beleza do lugar. As cidades eram uma mistura perfeita de natureza e tecnologia, com arranha-céus cobertos de vegetação e sistemas de transporte que utilizavam energia limpa. A recepção foi calorosa, e ela logo se viu cercada por cientistas e líderes de todo o mundo, todos ansiosos para aprender com os wakandanos.\n",
      "\n",
      "Durante a conferência, Ana teve a chance de conhecer Shuri, a irmã do falecido Rei T'Challa e uma das mentes mais brilhantes de Wakanda. Shuri estava trabalhando em um projeto revolucionário que utilizava vibranium para criar uma fonte de energia sustentável que poderia ser compartilhada com o mundo. Ana ficou impressionada com a visão de Shuri e a determinação em usar a tecnologia para o bem comum.\n",
      "\n",
      "No entanto, nem tudo era perfeito. Durante a conferência, rumores começaram a circular sobre uma ameaça externa. Um grupo de mercenários, atraídos pela riqueza de Wakanda, planejava invadir o país para roubar vibranium. A tensão aumentou, e os líderes wakandanos começaram a se preparar para a defesa.\n",
      "\n",
      "Ana, percebendo a gravidade da situação, decidiu que não poderia ficar parada. Com a ajuda de Shuri e outros cientistas, ela começou a trabalhar em um plano para proteger a tecnologia de Wakanda. Juntos, eles desenvolveram um sistema de defesa que utilizava drones equipados com inteligência artificial para monitorar as fronteiras do país.\n",
      "\n",
      "A noite da invasão chegou. Os mercenários, armados e determinados, tentaram entrar em Wakanda, mas foram recebidos por uma defesa impenetrável. Os drones, sob a supervisão de Ana e Shuri, neutralizaram a ameaça com precisão. A batalha foi rápida, e os invasores foram capturados antes que pudessem causar danos.\n",
      "\n",
      "Após a vitória, Ana percebeu que sua viagem a Wakanda não era apenas sobre aprender, mas também sobre contribuir para um futuro melhor. A experiência a transformou, e ela decidiu que voltaria ao Brasil para aplicar o que aprendeu e ajudar a desenvolver tecnologias sustentáveis em sua própria comunidade.\n",
      "\n",
      "Ao se despedir de Wakanda, Ana sentiu uma conexão profunda com o país e seu povo. Ela sabia que a luta pela justiça e pela sustentabilidade estava apenas começando, mas agora tinha aliados poderosos e uma nova visão para o futuro. A viagem a Wakanda não foi apenas uma aventura; foi o início de uma nova jornada em sua vida, onde a ciência e a solidariedade se uniam para criar um mundo melhor."
     ]
    }
   ],
   "source": [
    "resposta_completa = ''\n",
    "for stream_resposta in resposta:\n",
    "    texto = stream_resposta.choices[0].delta.content\n",
    "    if texto:\n",
    "        resposta_completa += texto\n",
    "        print(texto, end='')"
   ]
  },
  {
   "cell_type": "code",
   "execution_count": 10,
   "id": "16ed394c",
   "metadata": {},
   "outputs": [
    {
     "name": "stdout",
     "output_type": "stream",
     "text": [
      "**Título: A Jornada Vermelha**\n",
      "\n",
      "Era o ano de 2045, e a humanidade finalmente havia realizado o sonho de colonizar Marte. Após décadas de pesquisa e desenvolvimento, a primeira missão tripulada ao Planeta Vermelho estava prestes a decolar. A bordo da nave \"Esperança\", estavam cinco astronautas: a comandante Ana, o engenheiro Lucas, a bióloga Sofia, o geólogo Miguel e o médico Carla.\n",
      "\n",
      "Após meses de treinamento intenso, a equipe estava pronta para a aventura de suas vidas. No dia da decolagem, uma multidão se reuniu no Centro Espacial de Kennedy, em Cabo Canaveral, para testemunhar o histórico lançamento. Com um rugido ensurdecedor, a nave subiu ao céu, deixando a Terra para trás.\n",
      "\n",
      "Durante a viagem de seis meses, os astronautas enfrentaram desafios inesperados. A vida a bordo era repleta de rotinas, mas também de momentos de camaradagem e risadas. Eles compartilhavam histórias, jogavam jogos e até mesmo cultivavam pequenas plantas em um experimento de biologia. A conexão entre eles se fortalecia a cada dia.\n",
      "\n",
      "Finalmente, após meses de espera, a \"Esperança\" pousou suavemente na superfície marciana. A equipe saiu da nave, vestindo seus trajes espaciais, e foi recebida por um horizonte vermelho e desolado. O ar era rarefeito, mas a emoção era palpável. Eles estavam fazendo história.\n",
      "\n",
      "A primeira tarefa da equipe era montar o habitat que os abrigaria durante os próximos dois anos. Enquanto trabalhavam, Sofia coletava amostras de solo e analisava a possibilidade de vida microbiana. Miguel explorava as formações rochosas, fascinado pela geologia do planeta. Ana supervisionava as operações, garantindo que tudo ocorresse conforme o planejado.\n",
      "\n",
      "Com o passar dos dias, a equipe começou a se adaptar à nova realidade. Eles realizavam caminhadas exploratórias, registrando cada descoberta. Um dia, enquanto exploravam uma cratera, Miguel encontrou algo surpreendente: uma formação mineral que parecia indicar a presença de água. A notícia se espalhou rapidamente, e a equipe se uniu para investigar mais a fundo.\n",
      "\n",
      "A descoberta da água foi um marco. Com isso, a possibilidade de sustentar uma colônia em Marte se tornava mais real. A equipe começou a trabalhar em um sistema para extrair e purificar a água, um passo crucial para a sobrevivência a longo prazo.\n",
      "\n",
      "No entanto, nem tudo eram flores. Uma tempestade de poeira marciana se aproximava, e a equipe teve que se apressar para retornar ao habitat. Durante a tempestade, a comunicação com a Terra foi interrompida, e a equipe ficou isolada. A tensão aumentou, mas a confiança entre eles se fortaleceu. Eles sabiam que precisavam trabalhar juntos para superar aquele desafio.\n",
      "\n",
      "Após dias de espera, a tempestade finalmente passou. A equipe saiu do habitat e se deparou com um cenário transformado. A paisagem estava coberta por uma fina camada de poeira, e o céu, antes avermelhado, agora exibia um tom de laranja vibrante. Era como se Marte tivesse se vestido de gala para recebê-los.\n",
      "\n",
      "Com a comunicação restabelecida, a equipe compartilhou suas descobertas e desafios com a Terra. A missão estava se tornando um símbolo de esperança e resiliência para a humanidade. A equipe sabia que estava contribuindo para um futuro onde Marte poderia ser um lar para muitos.\n",
      "\n",
      "Ao final de sua jornada, Ana, Lucas, Sofia, Miguel e Carla refletiram sobre tudo o que haviam vivido. Eles não eram apenas astronautas; eram pioneiros, desbravadores de um novo mundo. Com corações cheios de gratidão e um profundo senso de realização, eles se prepararam para retornar à Terra, levando consigo não apenas amostras e dados, mas também a certeza de que a exploração espacial era o próximo passo na evolução da humanidade.\n",
      "\n",
      "E assim, a \"Esperança\" decolou de Marte, deixando para trás um legado de coragem e descoberta, enquanto a Terra aguardava ansiosamente o retorno de seus heróis.\n"
     ]
    }
   ],
   "source": [
    "print(resposta_completa)"
   ]
  }
 ],
 "metadata": {
  "kernelspec": {
   "display_name": ".venv",
   "language": "python",
   "name": "python3"
  },
  "language_info": {
   "codemirror_mode": {
    "name": "ipython",
    "version": 3
   },
   "file_extension": ".py",
   "mimetype": "text/x-python",
   "name": "python",
   "nbconvert_exporter": "python",
   "pygments_lexer": "ipython3",
   "version": "3.12.4"
  }
 },
 "nbformat": 4,
 "nbformat_minor": 5
}
