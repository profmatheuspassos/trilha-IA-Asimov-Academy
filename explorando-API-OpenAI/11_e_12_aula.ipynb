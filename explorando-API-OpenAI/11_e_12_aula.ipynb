{
 "cells": [
  {
   "cell_type": "markdown",
   "id": "8653b136",
   "metadata": {},
   "source": [
    "### Resposta que gostaríamos do modelo"
   ]
  },
  {
   "cell_type": "markdown",
   "id": "2e5e5758",
   "metadata": {},
   "source": [
    "```\n",
    "{\n",
    "  \"resposta\": \"Equação quadrática é uma equação polinomial de segundo grau, com a forma ax² + bx + c = 0.\",\n",
    "  \"categoria\": \"Matemática\",\n",
    "  \"fonte\": \"AsimoBot\"\n",
    "}\n",
    "```"
   ]
  },
  {
   "cell_type": "markdown",
   "id": "36f7a355",
   "metadata": {},
   "source": [
    "### Resposta que o modelo está nos dando"
   ]
  },
  {
   "cell_type": "markdown",
   "id": "552a86ed",
   "metadata": {},
   "source": [
    "Uma equação quadrática é uma equação polinomial de segundo grau, ou seja, uma equação na forma ax^2 + bx + c = 0, onde a, b e c são constantes e a é diferente de zero. A incógnita da equação é x e o objetivo é encontrar os valores de x que satisfazem a equação. As equações quadráticas podem ter duas soluções reais, uma solução real ou duas soluções complexas."
   ]
  },
  {
   "cell_type": "markdown",
   "id": "19ccb33b",
   "metadata": {},
   "source": [
    "### Prompt para que ele nos dê a mensagem formatada como queremos"
   ]
  },
  {
   "cell_type": "markdown",
   "id": "ad334c91",
   "metadata": {},
   "source": [
    "system_mes = '''\n",
    "Responda as perguntas em um parágrafo de até 20 palavras. Categorize as respostas no seguintes conteúdos: física, matemática, língua portuguesa ou outros.\n",
    "Retorne a resposta em um formato json, com as keys: \n",
    "fonte: valor deve ser sempre AsimoBot\n",
    "resposta: a resposta para a pergunta\n",
    "categoria: a categoria da pergunta\n",
    "'''"
   ]
  },
  {
   "cell_type": "markdown",
   "id": "917d2361",
   "metadata": {},
   "source": [
    "### Formatação das mensagens para realizarmos o Fine Tuning"
   ]
  },
  {
   "cell_type": "markdown",
   "id": "e0030aaf",
   "metadata": {},
   "source": [
    "```\n",
    "{\"messages\": \n",
    "    [\n",
    "        {\"role\": \"user\", \"content\": \"O que é uma equação quadrática\"},\n",
    "        {\"role\": \"assistant\", \"content\": \n",
    "            {\n",
    "                \"resposta\": \"Equação quadrática é uma equação polinomial de segundo grau, com a forma ax² + bx + c = 0.\",\n",
    "                \"categoria\": \"Matemática\",\n",
    "                \"fonte\": \"AsimoBot\"\n",
    "            }},\n",
    "    ]\n",
    "}\n",
    "\n",
    "```"
   ]
  },
  {
   "cell_type": "markdown",
   "id": "e3f3e9f4",
   "metadata": {},
   "source": [
    "### Criando o arquivo JSONL"
   ]
  },
  {
   "cell_type": "code",
   "execution_count": 1,
   "id": "59dc6dae",
   "metadata": {},
   "outputs": [],
   "source": [
    "import json\n",
    "\n",
    "with open('arquivos/chatbot_respostas.json', encoding=\"utf8\") as f:\n",
    "    json_respostas = json.load(f)"
   ]
  },
  {
   "cell_type": "code",
   "execution_count": 2,
   "id": "f9a0d9c0",
   "metadata": {},
   "outputs": [],
   "source": [
    "with open('arquivos/chatbot_respostas.jsonl', 'w', encoding=\"utf8\") as f:\n",
    "    for entrada in json_respostas:\n",
    "        resposta = {\n",
    "            'resposta': entrada['resposta'],\n",
    "            'categoria': entrada['categoria'],\n",
    "            'fonte': 'AsimoBot'\n",
    "        }\n",
    "        entrada_jsonl = {\n",
    "            'messages': [\n",
    "                {'role': 'user', 'content': entrada['pergunta']},\n",
    "                {'role': 'assistant', 'content': json.dumps(resposta, ensure_ascii=False, indent=2)}\n",
    "            ]\n",
    "        }\n",
    "        json.dump(entrada_jsonl, f, ensure_ascii=False)\n",
    "        f.write('\\n')"
   ]
  },
  {
   "cell_type": "code",
   "execution_count": 3,
   "id": "41893f6c",
   "metadata": {},
   "outputs": [],
   "source": [
    "import openai\n",
    "from dotenv import load_dotenv, find_dotenv\n",
    "\n",
    "_ = load_dotenv(find_dotenv())\n",
    "\n",
    "client = openai.Client()"
   ]
  },
  {
   "cell_type": "code",
   "execution_count": 4,
   "id": "cbd647ee",
   "metadata": {},
   "outputs": [
    {
     "name": "stdout",
     "output_type": "stream",
     "text": [
      "SyncCursorPage[FineTuningJob](data=[FineTuningJob(id='ftjob-unYugPWnz3WQvksg1S8RLOtX', created_at=1728807256, error=Error(code=None, message=None, param=None), fine_tuned_model=None, finished_at=None, hyperparameters=Hyperparameters(n_epochs='auto', batch_size='auto', learning_rate_multiplier='auto'), model='gpt-4o-mini-2024-07-18', object='fine_tuning.job', organization_id='org-Kjn5ncYNpbk8MGEDLqfldA4u', result_files=[], seed=159303920, status='validating_files', trained_tokens=None, training_file='file-69DukrM5NN60uypvcLDnaCI1', validation_file=None, estimated_finish=None, integrations=[], user_provided_suffix=None), FineTuningJob(id='ftjob-UzDNE73tmBRL7jEW8bcVvgIv', created_at=1728806719, error=Error(code=None, message=None, param=None), fine_tuned_model=None, finished_at=None, hyperparameters=Hyperparameters(n_epochs=3, batch_size=1, learning_rate_multiplier=1.8), model='gpt-4o-mini-2024-07-18', object='fine_tuning.job', organization_id='org-Kjn5ncYNpbk8MGEDLqfldA4u', result_files=[], seed=171736408, status='cancelled', trained_tokens=None, training_file='file-DcFTMtIMg1Uapl6s2A6vDDWi', validation_file=None, estimated_finish=None, integrations=[], user_provided_suffix=None), FineTuningJob(id='ftjob-MYC3MMS3YQrF2GClBkUWgpGr', created_at=1728806684, error=Error(code=None, message=None, param=None), fine_tuned_model=None, finished_at=None, hyperparameters=Hyperparameters(n_epochs=3, batch_size=1, learning_rate_multiplier=1.8), model='gpt-4o-mini-2024-07-18', object='fine_tuning.job', organization_id='org-Kjn5ncYNpbk8MGEDLqfldA4u', result_files=[], seed=664639032, status='cancelled', trained_tokens=None, training_file='file-PpU8oMoMcD2J9PhmQPSOnEgm', validation_file=None, estimated_finish=None, integrations=[], user_provided_suffix=None), FineTuningJob(id='ftjob-bh1QrwRb8QLL7qCIJtkSOELO', created_at=1728806460, error=Error(code=None, message=None, param=None), fine_tuned_model=None, finished_at=None, hyperparameters=Hyperparameters(n_epochs=3, batch_size=1, learning_rate_multiplier=2), model='gpt-3.5-turbo-0125', object='fine_tuning.job', organization_id='org-Kjn5ncYNpbk8MGEDLqfldA4u', result_files=[], seed=1100671824, status='cancelled', trained_tokens=None, training_file='file-w3RNqv7amx3xi0rQnzs4iioA', validation_file=None, estimated_finish=None, integrations=[], user_provided_suffix=None)], object='list', has_more=False)\n"
     ]
    }
   ],
   "source": [
    "file = client.files.create(\n",
    "    file=open('arquivos/chatbot_respostas.jsonl',  'rb'),\n",
    "    purpose='fine-tune'\n",
    ")\n",
    "\n",
    "client.fine_tuning.jobs.create(\n",
    "    training_file=file.id,\n",
    "    model=\"gpt-4o-mini-2024-07-18\"\n",
    ")"
   ]
  },
  {
   "cell_type": "code",
   "execution_count": 13,
   "id": "7d34f735",
   "metadata": {},
   "outputs": [
    {
     "name": "stdout",
     "output_type": "stream",
     "text": [
      "SyncCursorPage[FineTuningJob](data=[FineTuningJob(id='ftjob-unYugPWnz3WQvksg1S8RLOtX', created_at=1728807256, error=Error(code=None, message=None, param=None), fine_tuned_model='ft:gpt-4o-mini-2024-07-18:dataux::AHoDfgg8', finished_at=1728807981, hyperparameters=Hyperparameters(n_epochs=3, batch_size=1, learning_rate_multiplier=1.8), model='gpt-4o-mini-2024-07-18', object='fine_tuning.job', organization_id='org-Kjn5ncYNpbk8MGEDLqfldA4u', result_files=['file-wqje4li7i6K3FbDnfl3f93G3'], seed=159303920, status='succeeded', trained_tokens=26469, training_file='file-69DukrM5NN60uypvcLDnaCI1', validation_file=None, estimated_finish=None, integrations=[], user_provided_suffix=None), FineTuningJob(id='ftjob-UzDNE73tmBRL7jEW8bcVvgIv', created_at=1728806719, error=Error(code=None, message=None, param=None), fine_tuned_model=None, finished_at=None, hyperparameters=Hyperparameters(n_epochs=3, batch_size=1, learning_rate_multiplier=1.8), model='gpt-4o-mini-2024-07-18', object='fine_tuning.job', organization_id='org-Kjn5ncYNpbk8MGEDLqfldA4u', result_files=[], seed=171736408, status='cancelled', trained_tokens=None, training_file='file-DcFTMtIMg1Uapl6s2A6vDDWi', validation_file=None, estimated_finish=None, integrations=[], user_provided_suffix=None), FineTuningJob(id='ftjob-MYC3MMS3YQrF2GClBkUWgpGr', created_at=1728806684, error=Error(code=None, message=None, param=None), fine_tuned_model=None, finished_at=None, hyperparameters=Hyperparameters(n_epochs=3, batch_size=1, learning_rate_multiplier=1.8), model='gpt-4o-mini-2024-07-18', object='fine_tuning.job', organization_id='org-Kjn5ncYNpbk8MGEDLqfldA4u', result_files=[], seed=664639032, status='cancelled', trained_tokens=None, training_file='file-PpU8oMoMcD2J9PhmQPSOnEgm', validation_file=None, estimated_finish=None, integrations=[], user_provided_suffix=None), FineTuningJob(id='ftjob-bh1QrwRb8QLL7qCIJtkSOELO', created_at=1728806460, error=Error(code=None, message=None, param=None), fine_tuned_model=None, finished_at=None, hyperparameters=Hyperparameters(n_epochs=3, batch_size=1, learning_rate_multiplier=2), model='gpt-3.5-turbo-0125', object='fine_tuning.job', organization_id='org-Kjn5ncYNpbk8MGEDLqfldA4u', result_files=[], seed=1100671824, status='cancelled', trained_tokens=None, training_file='file-w3RNqv7amx3xi0rQnzs4iioA', validation_file=None, estimated_finish=None, integrations=[], user_provided_suffix=None)], object='list', has_more=False)\n"
     ]
    }
   ],
   "source": [
    "# Verificar status do job de fine-tuning\n",
    "fine_tune_jobs = client.fine_tuning.jobs.list()\n",
    "print(fine_tune_jobs)"
   ]
  },
  {
   "cell_type": "code",
   "execution_count": 14,
   "id": "d968541d",
   "metadata": {},
   "outputs": [
    {
     "data": {
      "text/plain": [
       "SyncCursorPage[FineTuningJob](data=[FineTuningJob(id='ftjob-unYugPWnz3WQvksg1S8RLOtX', created_at=1728807256, error=Error(code=None, message=None, param=None), fine_tuned_model='ft:gpt-4o-mini-2024-07-18:dataux::AHoDfgg8', finished_at=1728807981, hyperparameters=Hyperparameters(n_epochs=3, batch_size=1, learning_rate_multiplier=1.8), model='gpt-4o-mini-2024-07-18', object='fine_tuning.job', organization_id='org-Kjn5ncYNpbk8MGEDLqfldA4u', result_files=['file-wqje4li7i6K3FbDnfl3f93G3'], seed=159303920, status='succeeded', trained_tokens=26469, training_file='file-69DukrM5NN60uypvcLDnaCI1', validation_file=None, estimated_finish=None, integrations=[], user_provided_suffix=None), FineTuningJob(id='ftjob-UzDNE73tmBRL7jEW8bcVvgIv', created_at=1728806719, error=Error(code=None, message=None, param=None), fine_tuned_model=None, finished_at=None, hyperparameters=Hyperparameters(n_epochs=3, batch_size=1, learning_rate_multiplier=1.8), model='gpt-4o-mini-2024-07-18', object='fine_tuning.job', organization_id='org-Kjn5ncYNpbk8MGEDLqfldA4u', result_files=[], seed=171736408, status='cancelled', trained_tokens=None, training_file='file-DcFTMtIMg1Uapl6s2A6vDDWi', validation_file=None, estimated_finish=None, integrations=[], user_provided_suffix=None), FineTuningJob(id='ftjob-MYC3MMS3YQrF2GClBkUWgpGr', created_at=1728806684, error=Error(code=None, message=None, param=None), fine_tuned_model=None, finished_at=None, hyperparameters=Hyperparameters(n_epochs=3, batch_size=1, learning_rate_multiplier=1.8), model='gpt-4o-mini-2024-07-18', object='fine_tuning.job', organization_id='org-Kjn5ncYNpbk8MGEDLqfldA4u', result_files=[], seed=664639032, status='cancelled', trained_tokens=None, training_file='file-PpU8oMoMcD2J9PhmQPSOnEgm', validation_file=None, estimated_finish=None, integrations=[], user_provided_suffix=None), FineTuningJob(id='ftjob-bh1QrwRb8QLL7qCIJtkSOELO', created_at=1728806460, error=Error(code=None, message=None, param=None), fine_tuned_model=None, finished_at=None, hyperparameters=Hyperparameters(n_epochs=3, batch_size=1, learning_rate_multiplier=2), model='gpt-3.5-turbo-0125', object='fine_tuning.job', organization_id='org-Kjn5ncYNpbk8MGEDLqfldA4u', result_files=[], seed=1100671824, status='cancelled', trained_tokens=None, training_file='file-w3RNqv7amx3xi0rQnzs4iioA', validation_file=None, estimated_finish=None, integrations=[], user_provided_suffix=None)], object='list', has_more=False)"
      ]
     },
     "execution_count": 14,
     "metadata": {},
     "output_type": "execute_result"
    }
   ],
   "source": [
    "client.fine_tuning.jobs.list()"
   ]
  },
  {
   "cell_type": "markdown",
   "id": "22a227b6",
   "metadata": {},
   "source": [
    "### Utilizando o Modelo"
   ]
  },
  {
   "cell_type": "code",
   "execution_count": 15,
   "id": "6edb08f7",
   "metadata": {},
   "outputs": [
    {
     "name": "stdout",
     "output_type": "stream",
     "text": [
      "{\n",
      "  \"resposta\": \"Uma equação quadrática é uma equação polinomial do segundo grau, geralmente na forma ax² + bx + c = 0.\",\n",
      "  \"categoria\": \"Matemática\",\n",
      "  \"fonte\": \"AsimoBot\"\n",
      "}\n"
     ]
    }
   ],
   "source": [
    "mensagens = [{'role': 'user', 'content': 'O que é uma equação quadrática?'}]\n",
    "\n",
    "resposta = client.chat.completions.create(\n",
    "    messages=mensagens,\n",
    "    model=\"ft:gpt-4o-mini-2024-07-18:dataux::AHoDfgg8\",\n",
    "    max_tokens=1000,\n",
    "    temperature=0\n",
    ")\n",
    "\n",
    "print(resposta.choices[0].message.content)"
   ]
  },
  {
   "cell_type": "code",
   "execution_count": 16,
   "id": "552f5b5c",
   "metadata": {},
   "outputs": [
    {
     "name": "stdout",
     "output_type": "stream",
     "text": [
      "{\n",
      "  \"fonte\": \"AsimoBot\",\n",
      "  \"resposta\": \"Uma equação quadrática é uma expressão matemática do tipo ax² + bx + c = 0.\",\n",
      "  \"categoria\": \"matemática\"\n",
      "}\n"
     ]
    }
   ],
   "source": [
    "system_mes = '''\n",
    "Responda as perguntas em um parágrafo de até 20 palavras. Categorize as respostas no seguintes conteúdos: física, matemática, língua portuguesa ou outros.\n",
    "Retorne a resposta em um formato json, com as keys: \n",
    "fonte: valor deve ser sempre AsimoBot\n",
    "resposta: a resposta para a pergunta\n",
    "categoria: a categoria da pergunta\n",
    "'''\n",
    "\n",
    "mensagens = [\n",
    "    {'role': 'system', 'content': system_mes},\n",
    "    {'role': 'user', 'content': 'O que é uma equação quadrática?'}\n",
    "    ]\n",
    "\n",
    "resposta = client.chat.completions.create(\n",
    "    messages=mensagens,\n",
    "    model=\"gpt-4o-mini\",\n",
    "    max_tokens=1000,\n",
    "    temperature=0\n",
    ")\n",
    "\n",
    "print(resposta.choices[0].message.content)"
   ]
  },
  {
   "cell_type": "code",
   "execution_count": 18,
   "id": "cd03f73c",
   "metadata": {},
   "outputs": [
    {
     "data": {
      "text/plain": [
       "CompletionUsage(completion_tokens=48, prompt_tokens=94, total_tokens=142, prompt_tokens_details={'cached_tokens': 0}, completion_tokens_details={'reasoning_tokens': 0})"
      ]
     },
     "execution_count": 18,
     "metadata": {},
     "output_type": "execute_result"
    }
   ],
   "source": [
    "resposta.usage"
   ]
  },
  {
   "cell_type": "code",
   "execution_count": 20,
   "id": "8680a89d",
   "metadata": {},
   "outputs": [
    {
     "name": "stdout",
     "output_type": "stream",
     "text": [
      "{\n",
      "  \"resposta\": \"Uma equação quadrática é uma equação polinomial do segundo grau, geralmente na forma ax² + bx + c = 0, onde a, b e c são constantes.\",\n",
      "  \"categoria\": \"Matemática\",\n",
      "  \"fonte\": \"AsimoBot\"\n",
      "}\n"
     ]
    }
   ],
   "source": [
    "mensagens = [\n",
    "    {'role': 'user', 'content': 'O que é uma equação quadrática?'}\n",
    "    ]\n",
    "\n",
    "resposta = client.chat.completions.create(\n",
    "    messages=mensagens,\n",
    "    model=\"ft:gpt-4o-mini-2024-07-18:dataux::AHoDfgg8\",\n",
    "    max_tokens=1000,\n",
    "    temperature=0\n",
    ")\n",
    "\n",
    "print(resposta.choices[0].message.content)"
   ]
  },
  {
   "cell_type": "code",
   "execution_count": 21,
   "id": "bba5338f",
   "metadata": {},
   "outputs": [
    {
     "data": {
      "text/plain": [
       "CompletionUsage(completion_tokens=65, prompt_tokens=16, total_tokens=81, prompt_tokens_details={'cached_tokens': 0}, completion_tokens_details={'reasoning_tokens': 0})"
      ]
     },
     "execution_count": 21,
     "metadata": {},
     "output_type": "execute_result"
    }
   ],
   "source": [
    "resposta.usage"
   ]
  },
  {
   "cell_type": "markdown",
   "id": "88af94ee",
   "metadata": {},
   "source": [
    "1. O script começa importando o módulo json para manipulação de arquivos JSON. Ele abre um arquivo chamado 'chatbot_respostas.json', que contém um conjunto de respostas e perguntas, carregando seu conteúdo para a variável json_respostas.\n",
    "2. Em seguida, cria-se um novo arquivo chamado 'chatbot_respostas.jsonl'. Para cada item em json_respostas, o script constrói uma estrutura JSON no formato esperado para fins de fine-tuning. Essa estrutura inclui a pergunta original e a resposta, formatada com uma fonte chamada 'AsimoBot'. Essa nova estrutura é salva no formato JSON Lines (onde cada linha contém um JSON separado) no arquivo de saída.\n",
    "3. O script então importa o módulo openai e dotenv, sendo este último usado para carregar variáveis de ambiente a partir de um arquivo .env, como a chave da API do OpenAI. O arquivo .env é encontrado e carregado utilizando load_dotenv().\n",
    "Um cliente da API OpenAI (client) é criado. Em seguida, o arquivo 'chatbot_respostas.jsonl' é carregado na OpenAI para ser utilizado em um processo de fine-tuning, através do método client.files.create. Esse arquivo será usado para treinar um modelo com o propósito de personalizar suas respostas.\n",
    "4. O script então cria um job de fine-tuning, onde o arquivo de treinamento carregado é associado ao modelo \"gpt-4o-mini-2024-07-18\". Esse processo de fine-tuning personaliza o modelo com base nos dados fornecidos.\n",
    "5. O script lista todos os jobs de fine-tuning usando o método client.fine_tuning.jobs.list() para verificar o status de cada job que foi criado. Isso permite monitorar se o fine-tuning foi bem-sucedido ou está em andamento.\n",
    "6. Em seguida, o script cria uma interação de exemplo onde o usuário faz uma pergunta: \"O que é uma equação quadrática?\". O script usa o modelo \"gpt-4o-mini\" para gerar uma resposta, que é exibida usando print.\n",
    "7. O script define uma nova mensagem de sistema (system_mes) para instruir o modelo a responder perguntas com respostas curtas (até 20 palavras) e categorizar as respostas em \"física\", \"matemática\", \"língua portuguesa\" ou \"outros\". Essa mensagem é usada no contexto de um diálogo em que o usuário pergunta \"O que é uma equação quadrática?\", e o modelo retorna a resposta formatada de acordo com as instruções.\n",
    "8. Mais uma vez, o script chama a API para gerar uma resposta à pergunta \"O que é uma equação quadrática?\", agora usando o contexto definido pela mensagem de sistema e imprimindo a resposta.\n",
    "9. Finalmente, o script utiliza o modelo fine-tunado, referenciado pelo ID \"ft:gpt-4o-mini-2024-07-18\", para responder à pergunta \"O que é uma equação quadrática?\" mais uma vez, desta vez utilizando o modelo personalizado. A resposta gerada é exibida.\n",
    "\n",
    "Em resumo, o script carrega dados de perguntas e respostas, os formata para o fine-tuning, realiza o fine-tuning de um modelo de linguagem, e depois utiliza o modelo tanto antes quanto após o fine-tuning para gerar respostas a perguntas específicas."
   ]
  }
 ],
 "metadata": {
  "kernelspec": {
   "display_name": "Python 3",
   "language": "python",
   "name": "python3"
  },
  "language_info": {
   "codemirror_mode": {
    "name": "ipython",
    "version": 3
   },
   "file_extension": ".py",
   "mimetype": "text/x-python",
   "name": "python",
   "nbconvert_exporter": "python",
   "pygments_lexer": "ipython3",
   "version": "3.12.4"
  }
 },
 "nbformat": 4,
 "nbformat_minor": 5
}
